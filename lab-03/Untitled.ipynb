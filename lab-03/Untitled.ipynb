{
 "cells": [
  {
   "cell_type": "code",
   "execution_count": null,
   "metadata": {},
   "outputs": [],
   "source": [
    "# Python 3\n",
    "# ----- Find Arches by elevation ----- #\n",
    "# by joyrwGSIS for GEO 409, UKy\n",
    "# Fall, 2018\n",
    "# ----- ------------------------ ----- #\n",
    "\n",
    "# Import site package for ArcGIS\n",
    "import arcpy\n",
    "\n",
    "# Set ArcGIS evironment\n",
    "arcpy.env.workspace = r\"C:\\GIS\\geology.gdb\"\n",
    "arcpy.env.overwriteOutput = True\n"
   ]
  },
  {
   "cell_type": "code",
   "execution_count": null,
   "metadata": {},
   "outputs": [],
   "source": [
    "# Assign variables\n",
    "input_layer = \"us_arches\"\n",
    "output_path = r\"C:\\GIS\"\n",
    "\n",
    "# Prompt for user input\n",
    "print(\"This program returns all arches as .csv file at or above the minimum elevation.\")\n",
    "elevation = input(\"Enter minimum elevation: \")\n",
    "\n",
    "# Try converting to integer. Exit if not integer\n",
    "try:\n",
    "    elevationNumber = int(elevation)\n",
    "except:\n",
    "    print(\"Whoops! Try using a number.\")\n",
    "    exit()\n",
    "\n",
    "# Build the where clause, aka the SQL statement to select features\n",
    "whereClause = \"state_alpha\"+\"base_elevation_ft >= \" + str(elevationNumber) \n",
    "\n",
    "# Use the TableToTable arcpy function extract by SQL query\n",
    "arcpy.TableToTable_conversion (input_layer, output_path, \"arches_by_elev.csv\", whereClause)"
   ]
  },
  {
   "cell_type": "code",
   "execution_count": null,
   "metadata": {},
   "outputs": [],
   "source": []
  }
 ],
 "metadata": {
  "kernelspec": {
   "display_name": "Python 3",
   "language": "python",
   "name": "python3"
  },
  "language_info": {
   "codemirror_mode": {
    "name": "ipython",
    "version": 3
   },
   "file_extension": ".py",
   "mimetype": "text/x-python",
   "name": "python",
   "nbconvert_exporter": "python",
   "pygments_lexer": "ipython3",
   "version": "3.6.5"
  }
 },
 "nbformat": 4,
 "nbformat_minor": 2
}
