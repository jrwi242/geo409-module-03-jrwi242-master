{
 "cells": [
  {
   "cell_type": "code",
   "execution_count": null,
   "metadata": {},
   "outputs": [],
   "source": [
    "# Problem 1: \"variable names and operators\"\n",
    "# Print the output of 7 multipled by 56\n",
    "0neNumber = 7\n",
    "TwoNumber = 56\n",
    "print(\"7 multiplied by 56 is:')\n",
    "print(0neNumber x TwoNumber)"
   ]
  },
  {
   "cell_type": "code",
   "execution_count": null,
   "metadata": {},
   "outputs": [],
   "source": [
    "# Problem 2 \"conditional execution and comparison\"\n",
    "# This should run for any number entered.\n",
    "x = input(\"What is your height in feet: \"))\n",
    "if x = 1:\n",
    "    print(\\\"For real?\\\")\n",
    "else:\n",
    "    y = (250/x)*100 \n",
    "    print(\"You are \"  y  \"% the height of POT!\")"
   ]
  },
  {
   "cell_type": "code",
   "execution_count": null,
   "metadata": {},
   "outputs": [],
   "source": [
    "# Python 3\n",
    "# ----- Find Arches by elevation ----- #\n",
    "# by TastyFreeze for GEO 409, UKy\n",
    "# Fall, 2018\n",
    "# ----- ------------------------ ----- #\n",
    "\n",
    "# Import site package for ArcGIS\n",
    "import arcpy\n",
    "\n",
    "# Set ArcGIS evironment\n",
    "arcpy.env.workspace = r\"Z:\\BoydsGIS\\data\\geology.gdb\"\n",
    "arcpy.env.overwriteOutput = True\n",
    "\n",
    "# Assign variables\n",
    "input_layer = \"us_arches\"\n",
    "output_path = r\"Z:\\BoydsGIS\\data\"\n",
    "\n",
    "# Prompt for user input\n",
    "print(\"This program returns all arches as .csv file at or above the minimum elevation.\")\n",
    "elevation = input(\"Enter minimum elevation: \")\n",
    "\n",
    "# Try converting to integer. Exit if not integer\n",
    "try:\n",
    "    elevationNumber = int(elevation)\n",
    "except:\n",
    "    print(\"Whoops! Try using a number.\")\n",
    "    exit()\n",
    "\n",
    "# Build the where clause, aka the SQL statement to select features\n",
    "whereClause = \"base_elevation_ft >= \" + str(elevationNumber)\n",
    "\n",
    "# Use the TableToTable arcpy function extract by SQL query\n",
    "arcpy.TableToTable_conversion (input_layer, output_path, \"arches_by_elev.csv\", whereClause)"
   ]
  }
 ],
 "metadata": {
  "kernelspec": {
   "display_name": "Python 3",
   "language": "python",
   "name": "python3"
  },
  "language_info": {
   "codemirror_mode": {
    "name": "ipython",
    "version": 3
   },
   "file_extension": ".py",
   "mimetype": "text/x-python",
   "name": "python",
   "nbconvert_exporter": "python",
   "pygments_lexer": "ipython3",
   "version": "3.6.5"
  }
 },
 "nbformat": 4,
 "nbformat_minor": 2
}
