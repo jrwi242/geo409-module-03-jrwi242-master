{
 "cells": [
  {
   "cell_type": "markdown",
   "metadata": {},
   "source": [
    "# Lesson 03: Basic Python data structures and conditional execution\n",
    "\n",
    "## Table of Contents\n",
    "\n",
    "<!-- TOC -->\n",
    "\n",
    "- [Lesson 03: Basic Python data structures and conditional execution](#lesson-03-basic-python-data-structures-and-conditional-execution)\n",
    "    - [Table of Contents](#table-of-contents)\n",
    "    - [Overview](#overview)\n",
    "    - [Required viewing](#required-viewing)\n",
    "    - [Values and data types](#values-and-data-types)\n",
    "        - [Integer](#integer)\n",
    "        - [Float](#float)\n",
    "        - [String](#string)\n",
    "        - [Boolean](#boolean)\n",
    "    - [Constants and variables](#constants-and-variables)\n",
    "        - [Determine and convert value types](#determine-and-convert-value-types)\n",
    "    - [Statements](#statements)\n",
    "    - [Expressions](#expressions)\n",
    "        - [Common assignment and arithmatic operators](#common-assignment-and-arithmatic-operators)\n",
    "        - [Command line input](#command-line-input)\n",
    "    - [Conditional execution](#conditional-execution)\n",
    "        - [Comparison and logical operators](#comparison-and-logical-operators)\n",
    "        - [if conditional statement](#if-conditional-statement)\n",
    "        - [Combining if, else, and elif](#combining-if-else-and-elif)\n",
    "    - [Error handling and debugging](#error-handling-and-debugging)\n",
    "        - [Raising an Exception](#raising-an-exception)\n",
    "        - [Try and except block](#try-and-except-block)\n",
    "    - [ArcPy common setup](#arcpy-common-setup)\n",
    "    - [Addendum: Running into the weeds](#addendum-running-into-the-weeds)\n",
    "\n",
    "<!-- /TOC -->\n",
    "\n",
    "## Overview\n",
    "\n",
    "We'll examine the foundations of programming by looking at how we assign, compare, and change values. Using a Jupyter Notebook, we'll practice creating blocks of code that execute depending on the value of user-supplied data. Finally, we'll test our new understanding on a feature class of arch locations with ArcGIS.\n",
    "\n",
    "## Required viewing\n",
    "\n",
    "Please watch the videos in the PY4E for [lesson 3](https://www.py4e.com/lessons/memory) and [lesson 4](https://www.py4e.com/lessons/logic). \n",
    "\n",
    "![Python for Everyone videos](graphics/p01.png)  \n",
    "Python for Everyone videos\n",
    "\n",
    "## Values and data types\n",
    "\n",
    "A *value* is data that we use in our program. All values have a distinct *type* that Python requires. The type used depends on the data we need to encode and what it represents. For example, the data layers we added to our clip function were encoded as a string data type because the layer is accessed as a file path in your OS directory.\n",
    "\n",
    "We have four common data types we use. Let's use the `print()` function to show how to encode values.\n",
    "\n",
    "### Integer\n",
    "\n",
    "*Integer* values are non-fractional, whole numbers. They are typically used for nominal and ordinal data types but they can also measure quantities if they do not contain fractions. A great example of using integers for quantity is counting people. We don't like *only* 2/3 of a person! \n",
    "\n",
    "A nominal data type shows a difference of type and not a difference of size. It is often easier to use a *1, 2, 3, etc.* to classify features than using a longer label. An ordinal data type represents a ranked or ordered set of data. In this case a *2* is not twice as much as *1*; they are different ranks.\n",
    "\n",
    "In Python, we assign an integer by using a number without a decimal point or surrounding quotes.\n"
   ]
  },
  {
   "cell_type": "code",
   "execution_count": 1,
   "metadata": {
    "collapsed": true
   },
   "outputs": [],
   "source": [
    "# Let's tell Python that we have an integer\n",
    "print(1) # This is 1!\n",
    "print(1+1) # We have a calculator!"
   ]
  },
  {
   "cell_type": "markdown",
   "metadata": {},
   "source": [
    "While we can use the integer type for math and representing quantities, we have a better data type.\n",
    "\n",
    "### Float\n",
    "A *float* value represents a quantity and a difference of magnitude. It is a ratio data type and uses the decimal point notation."
   ]
  },
  {
   "cell_type": "code",
   "execution_count": 2,
   "metadata": {
    "collapsed": true
   },
   "outputs": [],
   "source": [
    "# Let's tell Python that we have a float\n",
    "print(1.0) # This is 1.0!\n",
    "print(4.0/7.0) # We have a calculator!"
   ]
  },
  {
   "cell_type": "markdown",
   "metadata": {},
   "source": [
    "### String\n",
    "\n",
    "*String* values are strings of characters (numbers, too!) that represent data with a difference of *type*, such as a name or address. Strings are always surrounded with either single or double quotes. A string could be used with numbers that need to contain leading zeros, e.g., with zip-codes. "
   ]
  },
  {
   "cell_type": "code",
   "execution_count": 3,
   "metadata": {
    "collapsed": true
   },
   "outputs": [],
   "source": [
    "# Let's tell Python that we have a string\n",
    "print(\"Hi!\") # This uses a double quote\n",
    "print('Hey there, mapper!') # Single quotes\n",
    "\n",
    "# What happens when we need to use a quote?\n",
    "# The escape character is the backslash \\\n",
    "# The backslash escapes the special meaning of\n",
    "# characters, such as a quote.\n",
    "print('Mapper\\'s Delight')\n",
    "\n",
    "# A little more complicated example\n",
    "print('Don\\'t need a \\\\ for this \" but do for this \\'')"
   ]
  },
  {
   "cell_type": "markdown",
   "metadata": {},
   "source": [
    "### Boolean\n",
    "*Boolean* type represents one of two possible values, denoted by a *True* or *False* (note that the values are case-sensitive). Typically a boolean is used to represent the result of a test. They are not wrapped in quotes."
   ]
  },
  {
   "cell_type": "code",
   "execution_count": 4,
   "metadata": {},
   "outputs": [
    {
     "name": "stdout",
     "output_type": "stream",
     "text": [
      "True\n",
      "False\n"
     ]
    }
   ],
   "source": [
    "# Let's say something true!\n",
    "print(True)\n",
    "\n",
    "# Then false\n",
    "print(False)"
   ]
  },
  {
   "cell_type": "markdown",
   "metadata": {},
   "source": [
    "## Constants and variables\n",
    "\n",
    "In the above examples we were passing *constants* through our `print()` function. Constants are immutable and cannot change value, the letter \"a\" will always be this letter. A cornerstone of programming is using *variables* to hold values that can be manipulated in the program. Without variables, programming would be very tedious. \n",
    "\n",
    "We using the `=` (equal sign) to *assign* value to a variable. "
   ]
  },
  {
   "cell_type": "code",
   "execution_count": 5,
   "metadata": {},
   "outputs": [
    {
     "name": "stdout",
     "output_type": "stream",
     "text": [
      "8.0\n"
     ]
    }
   ],
   "source": [
    "# Assign the letter 'x' and 'y' interger values\n",
    "x = 24\n",
    "y = 3\n",
    "\n",
    "# Then assign a value to another variable\n",
    "z = x/y\n",
    "\n",
    "# Then print the value of 'z' \n",
    "print(z) # note that we are not using quotes\n",
    "\n",
    "# Also note that the value type changed after division."
   ]
  },
  {
   "cell_type": "markdown",
   "metadata": {},
   "source": [
    "Using thoughtfully considered and consistent variable names are important. Use names that represent the value stored or help you remember what the values could be. Names are case-sensitive and can only contain letters, numbers, and the underscore, `_`. Variable names cannot be one of the 33 reserved keywords: \n",
    "\n",
    "```\n",
    "and       del       from      None      True\n",
    "as        elif      global    nonlocal  try\n",
    "assert    else      if        not       while\n",
    "break     except    import    or        with\n",
    "class     False     in        pass      yield\n",
    "continue  finally   is        raise\n",
    "def       for       lambda    return \n",
    "```"
   ]
  },
  {
   "cell_type": "markdown",
   "metadata": {},
   "source": [
    "It's pretty amazing how much one can program with this short list of words.\n",
    "\n",
    "Let's take a look at some examples of variable names."
   ]
  },
  {
   "cell_type": "code",
   "execution_count": 6,
   "metadata": {
    "collapsed": true
   },
   "outputs": [],
   "source": [
    "# Let assign an ArcGIS feature class to some variables\n",
    "\n",
    "RRG_arches = \"c:\\\\BoydsGIS\\\\data\\\\rrg\\\\arches\"\n",
    "\n",
    "rrgArches = \"c:\\\\BoydsGIS\\\\data\\\\rrg\\\\arches\"\n",
    "\n",
    "rrg_arches = \"c:\\\\BoydsGIS\\\\data\\\\rrg\\\\arches\"\n",
    "\n",
    "# The variables are all the same, but which is easier to read? "
   ]
  },
  {
   "cell_type": "markdown",
   "metadata": {},
   "source": [
    "### Determine and convert value types\n",
    "Sometimes we get a variable, and we need to find its type. We can use the `type()` function on a variable (or constant). "
   ]
  },
  {
   "cell_type": "code",
   "execution_count": 7,
   "metadata": {},
   "outputs": [
    {
     "name": "stdout",
     "output_type": "stream",
     "text": [
      "<class 'int'>\n",
      "<class 'str'>\n"
     ]
    }
   ],
   "source": [
    "x = 24\n",
    "\n",
    "# Find the type of 'x'\n",
    "print(type(x))\n",
    "print(type('x'))\n",
    "\n",
    "# Notice the difference?"
   ]
  },
  {
   "cell_type": "markdown",
   "metadata": {},
   "source": [
    "It is a common task to change the type of a value. Let's say you get number data that is encoded as a string, but you need to perform math on these numbers. We use three functions to convert value types, `int()`, `float()`, and `str()`. These functions convert a value to an integer, float, and string, respectively."
   ]
  },
  {
   "cell_type": "code",
   "execution_count": 8,
   "metadata": {},
   "outputs": [
    {
     "name": "stdout",
     "output_type": "stream",
     "text": [
      "<class 'str'>\n",
      "<class 'int'>\n",
      "8.0\n"
     ]
    }
   ],
   "source": [
    "# Assign 'x' a string value\n",
    "x = '24'\n",
    "\n",
    "# Assign 'y' an integer value\n",
    "y = 3\n",
    "\n",
    "# Find the types of these variables\n",
    "print(type(x))\n",
    "print(type(y))\n",
    "\n",
    "# To perform math, we need to convert value\n",
    "z = float(x)/y\n",
    "\n",
    "# Print value of z\n",
    "print(z)"
   ]
  },
  {
   "cell_type": "markdown",
   "metadata": {},
   "source": [
    "A *statement* is a unit of code that Python interprets and does something, it might even produce output. In the above code examples, we executed a series of statements. The print statements obviously produced output whereas the assignment statements produced no output. As we get more sophisticated with coding our statements would occupy multiple lines.\n",
    "\n",
    "Statements are executed sequentially and can overwrite the work of prior statements. For example, we can reassign variable values.\n"
   ]
  },
  {
   "cell_type": "code",
   "execution_count": 9,
   "metadata": {},
   "outputs": [
    {
     "name": "stdout",
     "output_type": "stream",
     "text": [
      "8.0\n"
     ]
    }
   ],
   "source": [
    "# Assign 'x' a string value\n",
    "x = '24'\n",
    "\n",
    "# Assign 'y' an integer value\n",
    "y = 3\n",
    "\n",
    "# Reassign variable 'x'\n",
    "x = float(x)/y\n",
    "\n",
    "# Print value of x\n",
    "print(x)"
   ]
  },
  {
   "cell_type": "markdown",
   "metadata": {},
   "source": [
    "## Expressions\n",
    "\n",
    "An *expression* produces value using other values, variables, and operators. Using arithmetic expressions to create new values is a great example, `x = x + 1` increments the value of the variable *x* by 1. We used the addition operator `+` to perform the arithmetic. We can also use the addition operator to concatenate string values."
   ]
  },
  {
   "cell_type": "code",
   "execution_count": 10,
   "metadata": {},
   "outputs": [
    {
     "name": "stdout",
     "output_type": "stream",
     "text": [
      "Banana loves to play with catnip\n"
     ]
    }
   ],
   "source": [
    "# assign string values\n",
    "myCat= \"Banana\"\n",
    "catsFav = \"catnip\"\n",
    "\n",
    "# use addition operator to concatenate string\n",
    "onSunday = myCat + \" loves to play with \" + catsFav\n",
    "print(onSunday)"
   ]
  },
  {
   "cell_type": "markdown",
   "metadata": {},
   "source": [
    "### Common assignment and arithmetic operators\n",
    "\n",
    "Consult the [common operators](https://www.w3schools.com/python/python_operators.asp) used in Python and practice using them. Please recognize the value types that operators require, e.g., the `+` operator can have integer, float, and string operands. \n",
    "\n",
    "The special `+=` addition plus the assignment operator is useful for counting. "
   ]
  },
  {
   "cell_type": "code",
   "execution_count": 11,
   "metadata": {},
   "outputs": [
    {
     "name": "stdout",
     "output_type": "stream",
     "text": [
      "2\n",
      "3\n"
     ]
    }
   ],
   "source": [
    "# assign 'x' an integer value\n",
    "x = 1\n",
    "\n",
    "# reassign and print 'x' \n",
    "x = x + 1\n",
    "print(x)\n",
    "\n",
    "# use more compact notation\n",
    "x += 1\n",
    "print(x)"
   ]
  },
  {
   "cell_type": "markdown",
   "metadata": {},
   "source": [
    "The modulus operator `%` yields the remainder of division. This is useful to determine if a value is evenly divisible by another value. For example, if we're making an elevation contour map we would find the index contours. label them, and symbolize them differently. "
   ]
  },
  {
   "cell_type": "code",
   "execution_count": 12,
   "metadata": {},
   "outputs": [
    {
     "name": "stdout",
     "output_type": "stream",
     "text": [
      "Is an index contour!\n",
      "Is an index contour!\n"
     ]
    }
   ],
   "source": [
    "# Assign integer values to contour variables\n",
    "contour1 = 120\n",
    "contour2 = 100\n",
    "isIndex = \"Is an index contour!\"\n",
    "\n",
    "# is this value divisible by 100?\n",
    "index = contour1%100\n",
    "print(isIndex)\n",
    "\n",
    "# is this value divisible by 100?\n",
    "index = contour2%100\n",
    "print(isIndex)"
   ]
  },
  {
   "cell_type": "markdown",
   "metadata": {},
   "source": [
    "### Command line input\n",
    "\n",
    "One the more powerfully fun dimensions of programming is getting user input and manipulating the values. The `input()` function prompts the user for input. The input is always assigned a string value. Before getting input, your prompt should suggest what to value type to enter. "
   ]
  },
  {
   "cell_type": "code",
   "execution_count": 13,
   "metadata": {},
   "outputs": [
    {
     "name": "stdout",
     "output_type": "stream",
     "text": [
      "Enter elevation contour value: 315\n",
      "If the following value is 0, then you have an index contour\n",
      "15.0\n"
     ]
    }
   ],
   "source": [
    "# Get a contour value\n",
    "contour = input(\"Enter elevation contour value: \")\n",
    "\n",
    "# convert string type to float\n",
    "contourNumber = float(contour)\n",
    "\n",
    "# see if it's a index contour\n",
    "index = contourNumber%100\n",
    "\n",
    "# tell the user the good news\n",
    "print(\"If the following value is 0, then you have an index contour\")\n",
    "print(index)"
   ]
  },
  {
   "cell_type": "markdown",
   "metadata": {},
   "source": [
    "Congratulations! You have created and run your first program. You might be wondering if we can evaluate the user input and give output based on certain conditions.\n",
    "\n",
    "## Conditional execution\n",
    "\n",
    "In most situations, you need to evaluate if a condition exists and decide which statements get executed. We can use *boolean expressions* to evaluate to a false or true condition. We use the *comparison* and *logical* operators create a boolean expression. \n",
    "\n",
    "### Comparison and logical operators\n",
    "\n",
    "The `==` and `!=` binary equality operators compare values. The `==` operator returns `True` if the values are equal. The `!=` operator returns `True` if values are not equal. The `and`, `or`, and `not` logical operators are used to combine and alter boolean expressions. Let's experiment!\n"
   ]
  },
  {
   "cell_type": "code",
   "execution_count": 14,
   "metadata": {},
   "outputs": [
    {
     "name": "stdout",
     "output_type": "stream",
     "text": [
      "True\n",
      "True\n"
     ]
    },
    {
     "data": {
      "text/plain": [
       "False"
      ]
     },
     "execution_count": 14,
     "metadata": {},
     "output_type": "execute_result"
    }
   ],
   "source": [
    "# simple comparisons\n",
    "print(1 == 1) # returns true\n",
    "1 == '1' # returns false because a string is not quantity\n",
    "1 == int('1') # returns true\n",
    "\n",
    "# combine comparisons\n",
    "1 == 1 and 1 == 2 # false both are not true\n",
    "print(1 == 1 or 1 == 2) # true because one is true\n",
    "1 == 1 and 1 != 2 # true!\n",
    "not (1 != 2) # false! What??"
   ]
  },
  {
   "cell_type": "markdown",
   "metadata": {},
   "source": [
    "In the last expression `not (1 != 2)` evaluates to `False` because the `not` operator reverses whatever the boolean value. In this case, 1 is not 2 (that's true) and the not reverses that value. We use these operators to control the behavior of our program.\n",
    "\n",
    "### if conditional statement\n",
    "\n",
    "The *if* statement is the simplest form of conditional execution. The boolean expression immediately after the `if` keyword determines if the indented code block runs. This is called the *body* of the `if` statement. The syntax of `if` statement (the same for function definitions and loop statements) requires a `:` colon after the boolean expression, then a line break, and a body indented with four spaces."
   ]
  },
  {
   "cell_type": "code",
   "execution_count": 15,
   "metadata": {},
   "outputs": [
    {
     "name": "stdout",
     "output_type": "stream",
     "text": [
      "1 is 1!\n"
     ]
    }
   ],
   "source": [
    "if 1 == 1:\n",
    "    print('1 is 1!') # indented four spaces\n",
    "# Most code editors will handle this strict requirement"
   ]
  },
  {
   "cell_type": "markdown",
   "metadata": {},
   "source": [
    "Let's take a look at our contour program from above and add a conditional statement. We'll tell the user if they have an index contour."
   ]
  },
  {
   "cell_type": "code",
   "execution_count": 16,
   "metadata": {},
   "outputs": [
    {
     "name": "stdout",
     "output_type": "stream",
     "text": [
      "Enter elevation contour value: 200\n",
      "Your value is an index contour!\n",
      "All done!\n"
     ]
    }
   ],
   "source": [
    "# Get a contour value\n",
    "contour = input(\"Enter elevation contour value: \")\n",
    "\n",
    "# convert string type to integer\n",
    "contourNumber = int(contour)\n",
    "\n",
    "# see if it's a index contour\n",
    "if contourNumber%100 == 0:\n",
    "    print(\"Your value is an index contour!\")\n",
    "\n",
    "# tell them we are done!\n",
    "print(\"All done!\")"
   ]
  },
  {
   "cell_type": "markdown",
   "metadata": {},
   "source": [
    "This code is more compact, but we are missing nuanced behavior. What if it is not an index contour? We would like to tell the user that we don't have one in addition to, \"All done!\". \n",
    "\n",
    "### Combining if, else, and elif\n",
    "\n",
    "We often need to provide more execution branches than one. The `else` keyword provides one alternate execution branches and the `elif` can provide many more. "
   ]
  },
  {
   "cell_type": "code",
   "execution_count": 17,
   "metadata": {},
   "outputs": [
    {
     "name": "stdout",
     "output_type": "stream",
     "text": [
      "Enter elevation contour value: 345\n",
      "Sorry. Not an index contour.\n",
      "All done!\n"
     ]
    }
   ],
   "source": [
    "# Get a contour value\n",
    "contour = input(\"Enter elevation contour value: \")\n",
    "\n",
    "# convert string type to integer\n",
    "contourNumber = int(contour)\n",
    "\n",
    "# see if it's a index contour\n",
    "if contourNumber%100 == 0:\n",
    "    print(\"Your value of \" + str(contourNumber) + \" is an index contour!\")\n",
    "else:\n",
    "    print(\"Sorry. Not an index contour.\")\n",
    "\n",
    "# tell them we are done!\n",
    "print(\"All done!\")"
   ]
  },
  {
   "cell_type": "markdown",
   "metadata": {},
   "source": [
    "Notice the addition of the ` + str(contourNumber) + ` in the `print()` function? We need to convert all values to the same type when pass them into a function. Now, let's test to see if the number is divisible by 50. Imagine if we wanted to make a secondary index contour. We can add an `elif` statement."
   ]
  },
  {
   "cell_type": "code",
   "execution_count": 18,
   "metadata": {},
   "outputs": [
    {
     "name": "stdout",
     "output_type": "stream",
     "text": [
      "Enter elevation contour value: 200\n",
      "Your value of 200 is an index contour!\n",
      "All done!\n"
     ]
    }
   ],
   "source": [
    "# Get a contour value\n",
    "contour = input(\"Enter elevation contour value: \")\n",
    "\n",
    "# convert string type to integer\n",
    "contourNumber = int(contour)\n",
    "\n",
    "# see if it's a index contour\n",
    "if contourNumber%100 == 0:\n",
    "    print(\"Your value of \" + str(contourNumber) + \" is an index contour!\")\n",
    "elif contourNumber%50 == 0:\n",
    "    print(\"You have an secondary index contour!\")\n",
    "else:\n",
    "    print(\"Sorry. Not an index contour.\")\n",
    "\n",
    "# tell them we are done!\n",
    "print(\"All done!\")"
   ]
  },
  {
   "cell_type": "markdown",
   "metadata": {},
   "source": [
    "Ordering the `if` and `elif` is important. The first true expression determines what statement gets executed. If both conditionals evaluate to true, it might be better to use nested conditionals. Let's take a look at the above code block and reverse the order."
   ]
  },
  {
   "cell_type": "code",
   "execution_count": 19,
   "metadata": {},
   "outputs": [
    {
     "name": "stdout",
     "output_type": "stream",
     "text": [
      "Enter elevation contour value: 200\n",
      "You have an secondary index contour!\n",
      "All done!\n"
     ]
    }
   ],
   "source": [
    "# Get a contour value\n",
    "contour = input(\"Enter elevation contour value: \")\n",
    "\n",
    "# convert string type to integer\n",
    "contourNumber = int(contour)\n",
    "\n",
    "# see if it's a index contour\n",
    "if contourNumber%50 == 0:\n",
    "    print(\"You have an secondary index contour!\")\n",
    "elif contourNumber%100 == 0:\n",
    "    print(\"Your value of \" + str(contourNumber) + \" is an index contour!\")\n",
    "else:\n",
    "    print(\"Sorry. Not an index contour.\")\n",
    "\n",
    "# tell them we are done!\n",
    "print(\"All done!\")"
   ]
  },
  {
   "cell_type": "markdown",
   "metadata": {},
   "source": [
    "Because, for example, 200 is divisible by both 50 and 100 (without remainder) the `elif` body will never run. However, we can next that statement to make an additional test."
   ]
  },
  {
   "cell_type": "code",
   "execution_count": 20,
   "metadata": {},
   "outputs": [
    {
     "name": "stdout",
     "output_type": "stream",
     "text": [
      "Enter elevation contour value: 200\n",
      "Your value of 200 is an index contour!\n",
      "All done!\n"
     ]
    }
   ],
   "source": [
    "# Get a contour value\n",
    "contour = input(\"Enter elevation contour value: \")\n",
    "\n",
    "# convert string type to integer\n",
    "contourNumber = int(contour)\n",
    "\n",
    "# see if it's a index contour\n",
    "if contourNumber%50 == 0: \n",
    "    if contourNumber%100 == 0:\n",
    "        print(\"Your value of \" + str(contourNumber) + \" is an index contour!\")\n",
    "    else:\n",
    "        print(\"You have an secondary index contour!\")\n",
    "else:\n",
    "    print(\"Sorry. Not an index contour.\")\n",
    "\n",
    "# tell them we are done!\n",
    "print(\"All done!\")"
   ]
  },
  {
   "cell_type": "markdown",
   "metadata": {},
   "source": [
    "## Error handling and debugging\n",
    "\n",
    "Programming is as much about debugging old code as it is about creating new code. Python blows up at the first error it encounters and you will benefit as a coder from finding and removing bugs. We have a few types of errors in programming.\n",
    "\n",
    "* **Syntax** errors\n",
    "* **Exception** errors\n",
    "* **Logic** errors\n",
    "\n",
    "Syntax errors happen when you execute an incorrectly typed statement. If we had an extra parenthesis as shown in following code block, Python will show *invalid syntax*. "
   ]
  },
  {
   "cell_type": "code",
   "execution_count": 21,
   "metadata": {},
   "outputs": [
    {
     "ename": "SyntaxError",
     "evalue": "invalid syntax (<ipython-input-21-6da11e4456aa>, line 1)",
     "output_type": "error",
     "traceback": [
      "\u001b[1;36m  File \u001b[1;32m\"<ipython-input-21-6da11e4456aa>\"\u001b[1;36m, line \u001b[1;32m1\u001b[0m\n\u001b[1;33m    contour = input(\"Enter elevation contour value: \"))\u001b[0m\n\u001b[1;37m                                                      ^\u001b[0m\n\u001b[1;31mSyntaxError\u001b[0m\u001b[1;31m:\u001b[0m invalid syntax\n"
     ]
    }
   ],
   "source": [
    "contour = input(\"Enter elevation contour value: \"))"
   ]
  },
  {
   "cell_type": "markdown",
   "metadata": {},
   "source": [
    "If Python throws (raises) an exception error, it doesn't know how to handle a correctly typed statement. Common errors of this type are dividing by zero and not converting value types. Python will give a detailed error message to help diagnose the problem.\n",
    "\n",
    "Logic errors might not cause Python to crash; instead, you might get incorrect output. For example, using the clip function with the wrong input parameters. \n",
    "\n",
    "### Raising an Exception\n",
    "\n",
    "If you want to give a custom error message, you can use the `raise` keyword to give a detailed message. Using the `input()` will accept any input value but what if we want to capture only numbers that were appropriate for our dataset. Consider this example:"
   ]
  },
  {
   "cell_type": "code",
   "execution_count": 22,
   "metadata": {},
   "outputs": [
    {
     "name": "stdout",
     "output_type": "stream",
     "text": [
      "Enter elevation contour value: 4000\n"
     ]
    },
    {
     "ename": "Exception",
     "evalue": "Elevation outside range. Run program again.",
     "output_type": "error",
     "traceback": [
      "\u001b[1;31m---------------------------------------------------------------------------\u001b[0m",
      "\u001b[1;31mException\u001b[0m                                 Traceback (most recent call last)",
      "\u001b[1;32m<ipython-input-22-1441a7a3822e>\u001b[0m in \u001b[0;36m<module>\u001b[1;34m()\u001b[0m\n\u001b[0;32m      5\u001b[0m \u001b[0mcontourInt\u001b[0m \u001b[1;33m=\u001b[0m \u001b[0mint\u001b[0m\u001b[1;33m(\u001b[0m\u001b[0mcontour\u001b[0m\u001b[1;33m)\u001b[0m\u001b[1;33m\u001b[0m\u001b[0m\n\u001b[0;32m      6\u001b[0m \u001b[1;32mif\u001b[0m \u001b[0mcontourInt\u001b[0m \u001b[1;33m>\u001b[0m \u001b[1;36m2900\u001b[0m \u001b[1;32mor\u001b[0m \u001b[0mcontourInt\u001b[0m \u001b[1;33m<\u001b[0m \u001b[1;36m0\u001b[0m\u001b[1;33m:\u001b[0m\u001b[1;33m\u001b[0m\u001b[0m\n\u001b[1;32m----> 7\u001b[1;33m     \u001b[1;32mraise\u001b[0m \u001b[0mException\u001b[0m\u001b[1;33m(\u001b[0m\u001b[1;34m\"Elevation outside range. Run program again.\"\u001b[0m\u001b[1;33m)\u001b[0m\u001b[1;33m\u001b[0m\u001b[0m\n\u001b[0m\u001b[0;32m      8\u001b[0m \u001b[1;32melse\u001b[0m\u001b[1;33m:\u001b[0m\u001b[1;33m\u001b[0m\u001b[0m\n\u001b[0;32m      9\u001b[0m     \u001b[0mprint\u001b[0m\u001b[1;33m(\u001b[0m\u001b[1;34m\"OK! Got good numbers. Lets go!\"\u001b[0m\u001b[1;33m)\u001b[0m\u001b[1;33m\u001b[0m\u001b[0m\n",
      "\u001b[1;31mException\u001b[0m: Elevation outside range. Run program again."
     ]
    }
   ],
   "source": [
    "# capture input value\n",
    "contour = input(\"Enter elevation contour value: \")\n",
    "\n",
    "# convert value to integer type\n",
    "contourInt = int(contour)\n",
    "if contourInt > 2900 or contourInt < 0:\n",
    "    raise Exception(\"Elevation outside range. Run program again.\")\n",
    "else:\n",
    "    print(\"OK! Got good numbers. Lets go!\")"
   ]
  },
  {
   "cell_type": "markdown",
   "metadata": {},
   "source": [
    "Does it appear a little too dramatic to crash the program with an exception? What if we could gracefully stop with a friendlier message.\n",
    "\n",
    "### Try and except block\n",
    "\n",
    "This is a conditional that allows you to handle an exception by forking into a different branch of code. The idea is that you add statements that would execute if an error occurs. Think of it as Python's insurance policy for you. Let's take a look at how this appears with our contour program."
   ]
  },
  {
   "cell_type": "code",
   "execution_count": 23,
   "metadata": {},
   "outputs": [
    {
     "name": "stdout",
     "output_type": "stream",
     "text": [
      "Enter elevation contour value: 400x\n",
      "Please enter a number.\n",
      "Your value of 200 is an index contour!\n",
      "All done!\n"
     ]
    }
   ],
   "source": [
    "# Get a contour value\n",
    "contour = input(\"Enter elevation contour value: \")\n",
    "\n",
    "# Try converting the string to the number\n",
    "\n",
    "try: # Try clause\n",
    "    # convert string type to int\n",
    "    contourNumber = int(contour)\n",
    "\n",
    "# if successful, the below step is skipped\n",
    "# if unsuccessful the below statement is executed and the program stops\n",
    "except: # except clause\n",
    "    print(\"Please enter a number.\")\n",
    "    exit() # exit function to prevent continuing\n",
    "\n",
    "# resume program if sucessful\n",
    "# see if it's a index contour\n",
    "if contourNumber%50 == 0: \n",
    "    if contourNumber%100 == 0:\n",
    "        print(\"Your value of \" + str(contourNumber) + \" is an index contour!\")\n",
    "    else:\n",
    "        print(\"You have an secondary index contour!\")\n",
    "else:\n",
    "    print(\"Sorry. Not an index contour.\")\n",
    "\n",
    "# tell them we are done!\n",
    "print(\"All done!\")"
   ]
  },
  {
   "cell_type": "markdown",
   "metadata": {},
   "source": [
    "The except clause now hides the specific error that Python would give us. We are now responsible for telling the user how to solve the problem. \n",
    "\n",
    "## ArcPy common setup\n",
    "\n",
    "As we discovered in a previous lesson, we need to `import` the `arcpy` site *package*. A Python package and its collection of *modules* is the way Python maintains reusable code. "
   ]
  },
  {
   "cell_type": "code",
   "execution_count": 1,
   "metadata": {
    "collapsed": true
   },
   "outputs": [],
   "source": [
    "# import package that contains ArcGIS functionality\n",
    "import arcpy"
   ]
  },
  {
   "cell_type": "markdown",
   "metadata": {},
   "source": [
    "Next we need to define environment settings (e.g., working directory, output coordinate system, whether to overwrite existing data, etc.) that affect the way our tools work and are exposed as properties on [ArcPy's env class(http://pro.arcgis.com/en/pro-app/arcpy/classes/env.htm)]. Let's set the `workspace` property to the geodatabase that came with the lab (zip file in lab folder) and the `overwriteOutput` property to the boolean `True`."
   ]
  },
  {
   "cell_type": "code",
   "execution_count": 2,
   "metadata": {
    "collapsed": true
   },
   "outputs": [],
   "source": [
    "# set environment properties\n",
    "arcpy.env.workspace = r\"Z:\\BoydsGIS\\data\\geology.gdb\"\n",
    "arcpy.env.overwriteOutput = True"
   ]
  },
  {
   "cell_type": "markdown",
   "metadata": {},
   "source": [
    "Why did we use this don't notation to access the properties? Because we have to use the correct \"address\" in our namespace otherwise Python wouldn't find the right module to use. It might seem like too much to write and we have ways to make them shorter, but for now use the full address.\n",
    "\n",
    "Let's say we now want to list the feature class layers in our database. When case the [ListFeatureClasses](http://pro.arcgis.com/en/pro-app/arcpy/functions/listfeatureclasses.htm) function to get a list of layers. Notice the syntax of the function: \n",
    "\n",
    "```\n",
    "ListFeatureClasses ({wild_card}, {feature_type}, {feature_dataset})\n",
    "```\n",
    "\n",
    "It uses all curly brackets for each `{parameter}` which is ArcPy lingo for an optional parameter. We can leave it blank, or search for point feature type. The default value is all."
   ]
  },
  {
   "cell_type": "code",
   "execution_count": 3,
   "metadata": {},
   "outputs": [
    {
     "name": "stdout",
     "output_type": "stream",
     "text": [
      "['us_arches']\n"
     ]
    }
   ],
   "source": [
    "# get list of feature classes in our database\n",
    "featureList = arcpy.ListFeatureClasses()\n",
    "print (featureList)"
   ]
  },
  {
   "cell_type": "markdown",
   "metadata": {},
   "source": [
    "Okay! We have a list of feature classes. Let's inspect the attributes of the *us_arches* layer. We'll use the [ListFields](http://pro.arcgis.com/en/pro-app/arcpy/functions/listfields.htm) to build a [Field object](http://pro.arcgis.com/en/pro-app/arcpy/classes/field.htm), which is a particular data type in ArcGIS. Then, we'll use a `for` loop (this will be explored in much detail in the next lesson)"
   ]
  },
  {
   "cell_type": "code",
   "execution_count": 4,
   "metadata": {},
   "outputs": [
    {
     "name": "stdout",
     "output_type": "stream",
     "text": [
      "OBJECTID is a type of OID\n",
      "Shape is a type of Geometry\n",
      "feature_name is a type of String\n",
      "feature_class is a type of String\n",
      "state_alpha is a type of String\n",
      "state_numeric is a type of String\n",
      "county_name is a type of String\n",
      "county_numeric is a type of String\n",
      "prim_lat_dec is a type of Double\n",
      "prim_long_dec is a type of Double\n",
      "map_name is a type of String\n",
      "date_created is a type of String\n",
      "date_edited is a type of String\n",
      "base_elevation_ft is a type of Integer\n"
     ]
    }
   ],
   "source": [
    "# build field data type showing properties of us_arches fields.\n",
    "fields = arcpy.ListFields('us_arches')\n",
    "\n",
    "# for each field in the object field print it's name and type.\n",
    "# the variable name 'field' after for is arbitrary\n",
    "for field in fields:\n",
    "    print(field.name + \" is a type of \" + field.type)"
   ]
  },
  {
   "cell_type": "markdown",
   "metadata": {},
   "source": [
    "With a couple lines of code you can now quickly inspect a database and layers it contains."
   ]
  }
 ],
 "metadata": {
  "kernelspec": {
   "display_name": "Python 3",
   "language": "python",
   "name": "python3"
  },
  "language_info": {
   "codemirror_mode": {
    "name": "ipython",
    "version": 3
   },
   "file_extension": ".py",
   "mimetype": "text/x-python",
   "name": "python",
   "nbconvert_exporter": "python",
   "pygments_lexer": "ipython3",
   "version": "3.6.2"
  }
 },
 "nbformat": 4,
 "nbformat_minor": 2
}
